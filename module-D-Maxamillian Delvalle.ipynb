{
 "cells": [
  {
   "cell_type": "markdown",
   "metadata": {},
   "source": [
    "# Assignment Group 1\n",
    "\n",
    "## Module D _(25 points)_\n",
    "\n",
    "__D1.__ _(2 points)_ In this module, you will be working on a Jupyter Notebook as the input data. In Module A of Assignment Group 1, we worked on the script of the [Seinfeld Chronicles dataset](https://www.kaggle.com/thec03u5/seinfeld-chronicles). Due to a mistake, we have printed the scripts 50 times. As a result, the generated output is very large and it does not allow us to open the notebook. If we cannot open the notebook, we won't be able to recover the code we've written before the problematic line of code. As a fix, in this module we are going to recover a Jupyter Notebook by removing the undesired `outputs` and save the notebook with a new name. Therefore, the first thing to know is the format of a Jupyter Notebook. As you noticed, the Jupyter Notebooks' names end with `.ipynb`. But, what is the format of a Jupyter Notebook as a data type? In other words, how can you load and modify the notebook as a piece of data? Place your answers in the response box below."
   ]
  },
  {
   "cell_type": "markdown",
   "metadata": {},
   "source": [
    "As mentioned in the comments for D2, I would load the Jupyter notebook ipynb file as a Json file. This will show that script or raw code of the notebook which can also be viewed with notepad++. This will allow us to read and modify the notebook code which should begin with Cells[]. Each cell inside the notebook will be inside Cells[]. Each cell will begin with Cell_Type = \"Markdown\" or \"Code\". For this problem we want to look at the Cell_Type = \"Code\". Under that, there will be an Output = \"...\". If this mistake printed the scripts 50 times, then there may be 50 of the same Outputs. Thus the goal here would be to clear all of those Outputs. "
   ]
  },
  {
   "cell_type": "markdown",
   "metadata": {},
   "source": [
    "__D2.__ _(5 points)_ Now, if you've figured out the `data` format of Jupyter Notebooks, load the `data.ipynb` file located in the `data` directory using an appropriate module."
   ]
  },
  {
   "cell_type": "code",
   "execution_count": 1,
   "metadata": {},
   "outputs": [],
   "source": [
    "import json \n",
    "read_notebook_json = json.load(open('data/data.ipynb', encoding=\"utf8\"))\n",
    "#Opening the Jupyter file as a Json file. The Json file output can be viewed by opening \n",
    "#the file in Notepad++ \n",
    "\n",
    "#The cell in the Json file was printed 50 times. It looks something like this: \n",
    "#Cells:[{cell type = \"code\" [output = \"..\"]}, more cell types, ...]\n",
    "#The goal is to erase the output = \"..\" for all 50 copies. \n"
   ]
  },
  {
   "cell_type": "markdown",
   "metadata": {},
   "source": [
    "__D3.__ _(13 points)_ In Jupyter, cells come in varieties, such as `'markdown'` and `'code'`. We write our code in the cells of type `'code'` and explanations in the `'markdown'` cells. Therefore, in this part, you have to iterate over the data file loaded in the previous part and find the cells that have the type of `'code'`. In these cells, you need to replace  the `outputs` with an empty list. Don't worry about removing the `'outputs'` of non-problematic `'code'` cells in the Jupyter Notebook you've loaded, we can re-run them again later. \n",
    "\n",
    "__Hint__: you view the type of the cells you're iterating over using the `cell_type` key. If a cell's `'cell_type'` value is  `'code'`, replace its `'outputs'` with an empty list (`[ ]`)."
   ]
  },
  {
   "cell_type": "code",
   "execution_count": 2,
   "metadata": {},
   "outputs": [],
   "source": [
    "#'w' - deletes everything in file, writing to it \n",
    "#'w+' - creates a new fresh file \n",
    "#'a' - appends file (adds whatever at the end of the file)\n",
    "#'r' - reads the file\n",
    "\n",
    "# Main_dict = read_notebook_json[[]]\n",
    "\n",
    "#Put double quotes for keys in dictionary\n",
    "# with f as file_handle:\n",
    "for i in read_notebook_json[\"cells\"]:\n",
    "    if i[\"cell_type\"] == \"code\":\n",
    "        i[\"output\"] = []\n",
    "        "
   ]
  },
  {
   "cell_type": "code",
   "execution_count": 5,
   "metadata": {},
   "outputs": [],
   "source": [
    "f = open('data/data.ipynb', 'w').write(str(read_notebook_json))\n",
    "#writes to the file - replacing the outputs with empty lists. Converted dictionary to string to run properly\n"
   ]
  },
  {
   "cell_type": "markdown",
   "metadata": {},
   "source": [
    "__D4.__ _(5 points)_ Finally, save your Jupyter Notebook with a new name (note that for this module, you have to submit three Jupyter Notebooks, one is the input data that you loaded in the __D2__, one is the Jupyter Notebook that you're saving after removing the undesired output, and one is the current active Jupyter Notebook in which you're writing your code).   "
   ]
  },
  {
   "cell_type": "code",
   "execution_count": null,
   "metadata": {},
   "outputs": [],
   "source": [
    "A: Please see the Data Folder to view files"
   ]
  }
 ],
 "metadata": {
  "kernelspec": {
   "display_name": "Python 3",
   "language": "python",
   "name": "python3"
  },
  "language_info": {
   "codemirror_mode": {
    "name": "ipython",
    "version": 3
   },
   "file_extension": ".py",
   "mimetype": "text/x-python",
   "name": "python",
   "nbconvert_exporter": "python",
   "pygments_lexer": "ipython3",
   "version": "3.6.4"
  }
 },
 "nbformat": 4,
 "nbformat_minor": 2
}
